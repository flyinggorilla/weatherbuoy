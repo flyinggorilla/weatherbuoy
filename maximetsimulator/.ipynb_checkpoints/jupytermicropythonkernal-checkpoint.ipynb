{
 "cells": [
  {
   "cell_type": "code",
   "execution_count": 1,
   "id": "improving-scope",
   "metadata": {},
   "outputs": [
    {
     "name": "stdout",
     "output_type": "stream",
     "text": [
      "\u001b[34mConnecting to --port=com5 --baud=115200 \u001b[0m\n",
      "\u001b[34mReady.\n",
      "\u001b[0m"
     ]
    }
   ],
   "source": [
    "%serialconnect --port com5 --baud 115200"
   ]
  },
  {
   "cell_type": "code",
   "execution_count": 7,
   "id": "lyric-india",
   "metadata": {},
   "outputs": [
    {
     "name": "stdout",
     "output_type": "stream",
     "text": [
      "Sent 3403 bytes in 114 chunks to main.py.\n"
     ]
    }
   ],
   "source": [
    "#%sendtofile main.py --binary\n",
    "from machine import Pin\n",
    "from time import sleep\n",
    "import time\n",
    "from machine import UART\n",
    "import ds18x20\n",
    "import onewire\n",
    "\n",
    "print(\"Gill Maximet simulator.\")\n",
    "\n",
    "led = Pin(0, Pin.OUT)\n",
    "uart = UART(2, baudrate=19200)\n",
    "ow = onewire.OneWire(Pin(15)) # create a OneWire bus on GPIO12\n",
    "ds = ds18x20.DS18X20(ow)\n",
    "roms = ds.scan()\n",
    "\n",
    "def send(data):\n",
    "    uart.write(data)\n",
    "    print(\"UART: '{}'\".format(data))\n",
    "    \n",
    "def sendline(data):\n",
    "    send(data + \"\\r\\n\")\n",
    "\n",
    "def serialStartupMessage():\n",
    "    sendline(\"MAXIMET GMX501-ESP8266 Simulator V1.00.00\")\n",
    "    sendline(\"STARTUP: OK\")\n",
    "    sendline(\"NODE,DIR,SPEED,CDIR,AVGDIR,AVGSPEED,GDIR,GSPEED,AVGCDIR,WINDSTAT,PRESS,PASL,PSTN,RH,TEMP,DEWPOINT,AH,\" \\\n",
    "             \"PRECIPT,PRECIPI,PRECIPS,COMPASSH,SOLARRAD,SOLARHOURS,WCHILL,HEATIDX,AIRDENS,WBTEMP,SUNR,SNOON,SUNS,SUNP,\" \\\n",
    "             \"TWIC,TWIN,TWIA,XTILT,YTILT,ZORIENT,USERINF,TIME,VOLT,STATUS,CHECK\")\n",
    "    sendline(\"-,DEG,MS,DEG,DEG,MS,DEG,MS,DEG,-,HPA,HPA,HPA,%,C,C,G/M3,MM,MM/H,-,DEG,WM2,HRS,C,C,KG/M3,C,-,-,-,\" \\\n",
    "             \"DEG,-,-,-,DEG,DEG,-,-,-,V,-,-\")\n",
    "    sendline(\"\")\n",
    "    sendline(\"<END OF STARTUP MESSAGE>\")\n",
    "\n",
    "\n",
    "def flashled(): \n",
    "    sleep(0.2)\n",
    "    led.off() # note: on/off is reverse!!\n",
    "    sleep(0.2)\n",
    "    led.on()\n",
    "    sleep(0.2)\n",
    "    led.off()\n",
    "    sleep(0.2)\n",
    "    led.on()\n",
    "\n",
    "def checksum(msg):\n",
    "    cs = 0\n",
    "    for c in msg:\n",
    "        cs ^= ord(c)\n",
    "        return cs\n",
    "\n",
    "def readTempAndSend():\n",
    "    led.off()\n",
    "    ds.convert_temp()\n",
    "    time.sleep_ms(750)\n",
    "    # +004.2\n",
    "    temp = ds.read_temp(roms[0])\n",
    "    data = \"Q,,000.38,,,000.00,,000.00,,0100,0981.4,1037.3,0982.0,040,+017.6,\" \\\n",
    "            \"{temp:+06.1f},06.15,00000.000,000.000,N,254,0550,00.00,,,1.2,\" \\\n",
    "            \"+010.5,06:47,11:49,16:51,201:+25,17:23,17:59,18:35,-06,+01,+1,\" \\\n",
    "            \",2018-10-31T13:07:24.9,+12.1,0000,\".format(temp=temp)\n",
    "    sendline(\"\\x02{data}\\x03{checksum:02x}\".format(data=data, checksum=checksum(data)))\n",
    "    led.on()\n",
    "    flashled()\n",
    "    \n",
    "    \n",
    "    \n",
    "STATE_NONE = 0\n",
    "STATE_DATA = 1\n",
    "STATE_COMMAND = 2\n",
    "state = STATE_DATA\n",
    "#for i in range(0,20):\n",
    "\n",
    "while(True):\n",
    "    rx = uart.readline() ## None if no data\n",
    "    if rx:\n",
    "        if \"\\r\\n\" in rx:\n",
    "            rx = rx[:-2].decode()        \n",
    "        elif \"\\r\" in rx:\n",
    "            rx = rx[:-1].decode()\n",
    "        print(\"<<<{}>>>\".format(rx))\n",
    "    \n",
    "    if state == STATE_DATA:\n",
    "        if rx == \"*\":\n",
    "            state = STATE_COMMAND\n",
    "            sendline(\"SETUP MODE\")\n",
    "            #print(\"ENTERING COMMAND STATE\")\n",
    "        else:\n",
    "            readTempAndSend()\n",
    "            sleep(0.1)\n",
    "    \n",
    "    if state == STATE_COMMAND:\n",
    "        if rx:\n",
    "            if rx.lower() == \"exit\":\n",
    "                #print(\"EXITING COMMAND STATE\")\n",
    "                state = STATE_DATA\n",
    "            elif rx.lower() == \"report\":\n",
    "                sendline(\"REPORT = NODE,DIR,SPEED,CDIR,AVGDIR,AVGSPEED,GDIR,GSPEED,AVGCDIR,WINDSTAT,PRESS,PASL,PSTN,RH,TEMP,DEWPOINT,AH,COMPASSH,SOLARRAD,SOLARHOURS,WCHILL,HEATIDX,AIRDENS,WBTEMP,SUNR,SNOON,SUNS,SUNP,TWIC,TWIN,TWIA,XTILT,YTILT,ZORIENT,USERINF,TIME,VOLT,STATUS,CHECK\")\n",
    "            elif rx.lower() == \"units\":\n",
    "                sendline(\"UNITS = -,DEG,MS,DEG,DEG,MS,DEG,MS,DEG,-,HPA,HPA,HPA,%,C,C,G/M3,DEG,WM2,HRS,C,C,KG/M3,C,-,-,-,DEG,-,-,-,DEG,DEG,-,-,-,V,-,-\")\n",
    "            elif rx.lower() == \"stop\":\n",
    "                sendline(\"Simulator command STOP\")\n",
    "                break\n",
    "            else\n",
    "                sendline(\"unkown command: {}\\r\\n use EXIT, REPORT, UNITS (simulator also STOP)\".format(rx))\n",
    "\n",
    "        sleep(1)\n",
    "\n"
   ]
  },
  {
   "cell_type": "code",
   "execution_count": 59,
   "id": "25147dfd",
   "metadata": {},
   "outputs": [
    {
     "name": "stdout",
     "output_type": "stream",
     "text": [
      "<<<jess>>>\n"
     ]
    }
   ],
   "source": [
    "if \"\\r\" in data:\n",
    "    d = data[:-1].decode()\n",
    "if \"\\r\\n\" in data:\n",
    "    d = data[:-2].decode()\n",
    "print(\"<<<\"+d+\">>>\")"
   ]
  },
  {
   "cell_type": "code",
   "execution_count": 6,
   "id": "6955ddad",
   "metadata": {},
   "outputs": [
    {
     "name": "stdout",
     "output_type": "stream",
     "text": [
      ".........................................................................................................................................................................................................................................................................................................................................................................................................................................\n",
      "**[ys] <class 'serial.serialutil.SerialException'>\n",
      "**[ys] ClearCommError failed (PermissionError(13, 'Access is denied.', None, 5))\n",
      "\n",
      "\n",
      "**[ys] <class 'serial.serialutil.SerialException'>\n",
      "**[ys] ClearCommError failed (PermissionError(13, 'Access is denied.', None, 5))\n",
      "\n"
     ]
    }
   ],
   "source": [
    "import uasyncio as asyncio\n",
    "from machine import UART\n",
    "uart = UART(1, baudrate=19200)\n",
    "async def sender():\n",
    "    swriter = asyncio.StreamWriter(uart, {})\n",
    "    while True:\n",
    "        await swriter.awrite('Hello uart\\n')\n",
    "        await asyncio.sleep(2)\n",
    "\n",
    "async def receiver():\n",
    "    sreader = asyncio.StreamReader(uart)\n",
    "    while True:\n",
    "        res = await sreader.readline()\n",
    "        print('Recieved', res)\n",
    "\n",
    "loop = asyncio.get_event_loop()\n",
    "loop.create_task(sender())\n",
    "loop.create_task(receiver())\n",
    "loop.run_forever()"
   ]
  },
  {
   "cell_type": "code",
   "execution_count": 67,
   "id": "australian-court",
   "metadata": {},
   "outputs": [
    {
     "name": "stdout",
     "output_type": "stream",
     "text": [
      "46\r\n"
     ]
    }
   ],
   "source": [
    "def checksum(msg):\n",
    "  cs = 0\n",
    "  for c in msg:\n",
    "    cs ^= ord(c)\n",
    "  return cs\n",
    "\n",
    "print(\"{:02x}\".format(checksum(\"A7444444asdfasdf          asdf \")))"
   ]
  },
  {
   "cell_type": "code",
   "execution_count": 32,
   "id": "guided-bridal",
   "metadata": {},
   "outputs": [
    {
     "name": "stdout",
     "output_type": "stream",
     "text": [
      "+022.4\n",
      "43.2\n"
     ]
    }
   ],
   "source": [
    "print(\"{temp:+06.1f}\".format(temp=ds.read_temp(roms[0])))\n",
    "temp = 43.2\n",
    "print(\"{temp}\".format(temp=temp))"
   ]
  },
  {
   "cell_type": "code",
   "execution_count": 16,
   "id": "atomic-problem",
   "metadata": {},
   "outputs": [
    {
     "name": "stdout",
     "output_type": "stream",
     "text": [
      "%capture [--quiet] [--QUIET] outputfilename\n",
      "    records output to a file\n",
      "\n",
      "%comment\n",
      "    print this into output\n",
      "\n",
      "%disconnect [--raw]\n",
      "    disconnects from web/serial connection\n",
      "\n",
      "%esptool [--port PORT] {erase,esp32,esp8266} [binfile]\n",
      "    commands for flashing your esp-device\n",
      "\n",
      "%fetchfile [--binary] [--print] [--load] [--quiet] [--QUIET]\n",
      "                  sourcefilename [destinationfilename]\n",
      "    fetch and save a file from the device\n",
      "\n",
      "%ls [--recurse] [dirname]\n",
      "    list files on the device\n",
      "\n",
      "%lsmagic\n",
      "    list magic commands\n",
      "\n",
      "%mpy-cross [--set-exe SET_EXE] [pyfile]\n",
      "    cross-compile a .py file to a .mpy file\n",
      "\n",
      "%readbytes [--binary]\n",
      "    does serial.read_all()\n",
      "\n",
      "%rebootdevice\n",
      "    reboots device\n",
      "\n",
      "%sendtofile [--append] [--mkdir] [--binary] [--execute]\n",
      "                   [--source [SOURCE]] [--quiet] [--QUIET]\n",
      "                   [destinationfilename]\n",
      "    send cell contents or file/direcectory to the device\n",
      "\n",
      "%serialconnect [--raw] [--port PORT] [--baud BAUD] [--verbose]\n",
      "    connects to a device over USB wire\n",
      "\n",
      "%socketconnect [--raw] ipnumber portnumber\n",
      "    connects to a socket of a device over wifi\n",
      "\n",
      "%suppressendcode\n",
      "    doesn't send x04 or wait to read after sending the contents of the cell\n",
      "  (assists for debugging using %writebytes and %readbytes)\n",
      "\n",
      "%websocketconnect [--raw] [--password PASSWORD] [--verbose]\n",
      "                         [websocketurl]\n",
      "    connects to the webREPL websocket of an ESP8266 over wifi\n",
      "    websocketurl defaults to ws://192.168.4.1:8266 but be sure to be connected\n",
      "\n",
      "%writebytes [--binary] [--verbose] stringtosend\n",
      "    does serial.write() of the python quoted string given\n",
      "\n",
      "%%writefile [--append] [--execute] destinationfilename\n",
      "    write contents of cell to a file\n",
      "\n"
     ]
    }
   ],
   "source": [
    "%lsmagic"
   ]
  }
 ],
 "metadata": {
  "kernelspec": {
   "display_name": "MicroPython - USB",
   "language": "micropython",
   "name": "micropython"
  },
  "language_info": {
   "codemirror_mode": "python",
   "file_extension": ".py",
   "mimetype": "text/python",
   "name": "micropython"
  }
 },
 "nbformat": 4,
 "nbformat_minor": 5
}
