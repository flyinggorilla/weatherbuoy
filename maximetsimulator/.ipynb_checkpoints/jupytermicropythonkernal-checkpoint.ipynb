{
 "cells": [
  {
   "cell_type": "code",
   "execution_count": 1,
   "id": "improving-scope",
   "metadata": {},
   "outputs": [
    {
     "name": "stdout",
     "output_type": "stream",
     "text": [
      "\u001b[34mReady.\n",
      "\u001b[0m"
     ]
    }
   ],
   "source": [
    "%serialconnect --port com4 --baud 115200"
   ]
  },
  {
   "cell_type": "code",
   "execution_count": null,
   "id": "lyric-india",
   "metadata": {},
   "outputs": [
    {
     "name": "stdout",
     "output_type": "stream",
     "text": [
      "Gill Maximet simulator.\n",
      ".UART: '\u0002Q,,000.38,,,000.00,,000.00,,0100,0981.4,1037.3,0982.0,040,+017.6,+022.4,06.15,00000.000,000.000,N,254,0550,00.00,,,1.2,+010.5,06:47,11:49,16:51,201:+25,17:23,17:59,18:35,-06,+01,+1,,2018-10-31T13:07:24.9,+12.1,0000,\u000351\n",
      "'\n",
      "..UART: '\u0002Q,,000.38,,,000.00,,000.00,,0100,0981.4,1037.3,0982.0,040,+017.6,+022.4,06.15,00000.000,000.000,N,254,0550,00.00,,,1.2,+010.5,06:47,11:49,16:51,201:+25,17:23,17:59,18:35,-06,+01,+1,,2018-10-31T13:07:24.9,+12.1,0000,\u000351\n",
      "'\n",
      "..UART: '\u0002Q,,000.38,,,000.00,,000.00,,0100,0981.4,1037.3,0982.0,040,+017.6,+022.4,06.15,00000.000,000.000,N,254,0550,00.00,,,1.2,+010.5,06:47,11:49,16:51,201:+25,17:23,17:59,18:35,-06,+01,+1,,2018-10-31T13:07:24.9,+12.1,0000,\u000351\n",
      "'\n",
      "..UART: '\u0002Q,,000.38,,,000.00,,000.00,,0100,0981.4,1037.3,0982.0,040,+017.6,+022.4,06.15,00000.000,000.000,N,254,0550,00.00,,,1.2,+010.5,06:47,11:49,16:51,201:+25,17:23,17:59,18:35,-06,+01,+1,,2018-10-31T13:07:24.9,+12.1,0000,\u000351\n",
      "'\n",
      "..UART: '\u0002Q,,000.38,,,000.00,,000.00,,0100,0981.4,1037.3,0982.0,040,+017.6,+023.6,06.15,00000.000,000.000,N,254,0550,00.00,,,1.2,+010.5,06:47,11:49,16:51,201:+25,17:23,17:59,18:35,-06,+01,+1,,2018-10-31T13:07:24.9,+12.1,0000,\u000351\n",
      "'\n",
      "...UART: '\u0002Q,,000.38,,,000.00,,000.00,,0100,0981.4,1037.3,0982.0,040,+017.6,+024.2,06.15,00000.000,000.000,N,254,0550,00.00,,,1.2,+010.5,06:47,11:49,16:51,201:+25,17:23,17:59,18:35,-06,+01,+1,,2018-10-31T13:07:24.9,+12.1,0000,\u000351\n",
      "'\n",
      "..UART: '\u0002Q,,000.38,,,000.00,,000.00,,0100,0981.4,1037.3,0982.0,040,+017.6,+024.5,06.15,00000.000,000.000,N,254,0550,00.00,,,1.2,+010.5,06:47,11:49,16:51,201:+25,17:23,17:59,18:35,-06,+01,+1,,2018-10-31T13:07:24.9,+12.1,0000,\u000351\n",
      "'\n",
      "..UART: '\u0002Q,,000.38,,,000.00,,000.00,,0100,0981.4,1037.3,0982.0,040,+017.6,+024.6,06.15,00000.000,000.000,N,254,0550,00.00,,,1.2,+010.5,06:47,11:49,16:51,201:+25,17:23,17:59,18:35,-06,+01,+1,,2018-10-31T13:07:24.9,+12.1,0000,\u000351\n",
      "'\n",
      "..UART: '\u0002Q,,000.38,,,000.00,,000.00,,0100,0981.4,1037.3,0982.0,040,+017.6,+024.7,06.15,00000.000,000.000,N,254,0550,00.00,,,1.2,+010.5,06:47,11:49,16:51,201:+25,17:23,17:59,18:35,-06,+01,+1,,2018-10-31T13:07:24.9,+12.1,0000,\u000351\n",
      "'\n",
      "."
     ]
    }
   ],
   "source": [
    "#%sendtofile main.py\n",
    "from machine import Pin\n",
    "from time import sleep\n",
    "import time\n",
    "from machine import UART\n",
    "import ds18x20\n",
    "import onewire\n",
    "\n",
    "print(\"Gill Maximet simulator.\")\n",
    "\n",
    "led = Pin(0, Pin.OUT)\n",
    "uart = UART(1, baudrate=19200)\n",
    "ow = onewire.OneWire(Pin(12)) # create a OneWire bus on GPIO12\n",
    "ds = ds18x20.DS18X20(ow)\n",
    "roms = ds.scan()\n",
    "\n",
    "def send(data):\n",
    "    uart.write(data)\n",
    "    print(\"UART: '{}'\".format(data))\n",
    "    \n",
    "def sendline(data):\n",
    "    send(data + \"\\r\\n\")\n",
    "\n",
    "def serialStartupMessage():\n",
    "    sendline(\"MAXIMET GMX501-ESP8266 Simulator V1.00.00\")\n",
    "    sendline(\"STARTUP: OK\")\n",
    "    sendline(\"NODE,DIR,SPEED,CDIR,AVGDIR,AVGSPEED,GDIR,GSPEED,AVGCDIR,WINDSTAT,PRESS,PASL,PSTN,RH,TEMP,DEWPOINT,AH,\" \\\n",
    "             \"PRECIPT,PRECIPI,PRECIPS,COMPASSH,SOLARRAD,SOLARHOURS,WCHILL,HEATIDX,AIRDENS,WBTEMP,SUNR,SNOON,SUNS,SUNP,\" \\\n",
    "             \"TWIC,TWIN,TWIA,XTILT,YTILT,ZORIENT,USERINF,TIME,VOLT,STATUS,CHECK\")\n",
    "    sendline(\"-,DEG,MS,DEG,DEG,MS,DEG,MS,DEG,-,HPA,HPA,HPA,%,C,C,G/M3,MM,MM/H,-,DEG,WM2,HRS,C,C,KG/M3,C,-,-,-,\" \\\n",
    "             \"DEG,-,-,-,DEG,DEG,-,-,-,V,-,-\")\n",
    "    sendline(\"\")\n",
    "    sendline(\"<END OF STARTUP MESSAGE>\")\n",
    "\n",
    "\n",
    "def flashled(): \n",
    "    sleep(0.2)\n",
    "    led.off() # note: on/off is reverse!!\n",
    "    sleep(0.2)\n",
    "    led.on()\n",
    "    sleep(0.2)\n",
    "    led.off()\n",
    "    sleep(0.2)\n",
    "    led.on()\n",
    "\n",
    "def checksum(msg):\n",
    "    cs = 0\n",
    "    for c in msg:\n",
    "        cs ^= ord(c)\n",
    "        return cs\n",
    "\n",
    "def readTempAndSend():\n",
    "    led.off()\n",
    "    ds.convert_temp()\n",
    "    time.sleep_ms(750)\n",
    "    # +004.2\n",
    "    temp = ds.read_temp(roms[0])\n",
    "    data = \"Q,,000.38,,,000.00,,000.00,,0100,0981.4,1037.3,0982.0,040,+017.6,\" \\\n",
    "            \"{temp:+06.1f},06.15,00000.000,000.000,N,254,0550,00.00,,,1.2,\" \\\n",
    "            \"+010.5,06:47,11:49,16:51,201:+25,17:23,17:59,18:35,-06,+01,+1,\" \\\n",
    "            \",2018-10-31T13:07:24.9,+12.1,0000,\".format(temp=temp)\n",
    "    sendline(\"\\x02{data}\\x03{checksum:02x}\".format(data=data, checksum=checksum(data)))\n",
    "    led.on()\n",
    "    flashled()\n",
    "    \n",
    "\n",
    "while(True):\n",
    "    readTempAndSend()\n",
    "    sleep(9)\n"
   ]
  },
  {
   "cell_type": "code",
   "execution_count": 67,
   "id": "directed-yahoo",
   "metadata": {},
   "outputs": [
    {
     "name": "stdout",
     "output_type": "stream",
     "text": [
      "46\r\n"
     ]
    }
   ],
   "source": [
    "def checksum(msg):\n",
    "  cs = 0\n",
    "  for c in msg:\n",
    "    cs ^= ord(c)\n",
    "  return cs\n",
    "\n",
    "print(\"{:02x}\".format(checksum(\"A7444444asdfasdf          asdf \")))"
   ]
  },
  {
   "cell_type": "code",
   "execution_count": 32,
   "id": "classical-original",
   "metadata": {},
   "outputs": [
    {
     "name": "stdout",
     "output_type": "stream",
     "text": [
      "+022.4\n",
      "43.2\n"
     ]
    }
   ],
   "source": [
    "print(\"{temp:+06.1f}\".format(temp=ds.read_temp(roms[0])))\n",
    "temp = 43.2\n",
    "print(\"{temp}\".format(temp=temp))"
   ]
  },
  {
   "cell_type": "code",
   "execution_count": 16,
   "id": "spiritual-smith",
   "metadata": {},
   "outputs": [
    {
     "name": "stdout",
     "output_type": "stream",
     "text": [
      "%capture [--quiet] [--QUIET] outputfilename\n",
      "    records output to a file\n",
      "\n",
      "%comment\n",
      "    print this into output\n",
      "\n",
      "%disconnect [--raw]\n",
      "    disconnects from web/serial connection\n",
      "\n",
      "%esptool [--port PORT] {erase,esp32,esp8266} [binfile]\n",
      "    commands for flashing your esp-device\n",
      "\n",
      "%fetchfile [--binary] [--print] [--load] [--quiet] [--QUIET]\n",
      "                  sourcefilename [destinationfilename]\n",
      "    fetch and save a file from the device\n",
      "\n",
      "%ls [--recurse] [dirname]\n",
      "    list files on the device\n",
      "\n",
      "%lsmagic\n",
      "    list magic commands\n",
      "\n",
      "%mpy-cross [--set-exe SET_EXE] [pyfile]\n",
      "    cross-compile a .py file to a .mpy file\n",
      "\n",
      "%readbytes [--binary]\n",
      "    does serial.read_all()\n",
      "\n",
      "%rebootdevice\n",
      "    reboots device\n",
      "\n",
      "%sendtofile [--append] [--mkdir] [--binary] [--execute]\n",
      "                   [--source [SOURCE]] [--quiet] [--QUIET]\n",
      "                   [destinationfilename]\n",
      "    send cell contents or file/direcectory to the device\n",
      "\n",
      "%serialconnect [--raw] [--port PORT] [--baud BAUD] [--verbose]\n",
      "    connects to a device over USB wire\n",
      "\n",
      "%socketconnect [--raw] ipnumber portnumber\n",
      "    connects to a socket of a device over wifi\n",
      "\n",
      "%suppressendcode\n",
      "    doesn't send x04 or wait to read after sending the contents of the cell\n",
      "  (assists for debugging using %writebytes and %readbytes)\n",
      "\n",
      "%websocketconnect [--raw] [--password PASSWORD] [--verbose]\n",
      "                         [websocketurl]\n",
      "    connects to the webREPL websocket of an ESP8266 over wifi\n",
      "    websocketurl defaults to ws://192.168.4.1:8266 but be sure to be connected\n",
      "\n",
      "%writebytes [--binary] [--verbose] stringtosend\n",
      "    does serial.write() of the python quoted string given\n",
      "\n",
      "%%writefile [--append] [--execute] destinationfilename\n",
      "    write contents of cell to a file\n",
      "\n"
     ]
    }
   ],
   "source": [
    "%lsmagic"
   ]
  }
 ],
 "metadata": {
  "kernelspec": {
   "display_name": "MicroPython - USB",
   "language": "micropython",
   "name": "micropython"
  },
  "language_info": {
   "codemirror_mode": "python",
   "file_extension": ".py",
   "mimetype": "text/python",
   "name": "micropython"
  }
 },
 "nbformat": 4,
 "nbformat_minor": 5
}
